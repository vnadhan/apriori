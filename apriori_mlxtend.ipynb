{
 "cells": [
  {
   "cell_type": "code",
   "execution_count": 5,
   "metadata": {},
   "outputs": [],
   "source": [
    "import pandas as pd\n",
    "from mlxtend.preprocessing import TransactionEncoder"
   ]
  },
  {
   "cell_type": "code",
   "execution_count": 6,
   "metadata": {},
   "outputs": [],
   "source": [
    "# list of transactions from a store.\n",
    "file = \"data/parsed_receipts.pkl\"\n",
    "df = pd.read_pickle(file)"
   ]
  },
  {
   "cell_type": "code",
   "execution_count": 7,
   "metadata": {},
   "outputs": [],
   "source": [
    "# we need to focus only on some EANs\n",
    "high_risk_eans = pd.read_pickle(\"data/high_risk_eans.pkl\")"
   ]
  },
  {
   "cell_type": "code",
   "execution_count": 8,
   "metadata": {},
   "outputs": [
    {
     "name": "stdout",
     "output_type": "stream",
     "text": [
      "16638\n",
      "16638\n"
     ]
    }
   ],
   "source": [
    "# Data pre-processing\n",
    "sales_products_df = df[(df['is_discount'] == False)]\n",
    "sales_products_df = sales_products_df[(sales_products_df['product'] != \"Ref.nummer\")]\n",
    "sales_products_df = sales_products_df[(sales_products_df['product'] != \"EL-tjänstinformation\")]\n",
    "sales_products_df = sales_products_df[(sales_products_df['subtotal'] > 0)]\n",
    "sales_products_df = sales_products_df[(sales_products_df['quantity'] > 0)]\n",
    "sales_products_df.dropna()\n",
    "sales_products_df['product'].str.strip()\n",
    "\n",
    "unique_sales_products = sales_products_df['ean'].unique()\n",
    "num_products = len(unique_sales_products)\n",
    "\n",
    "sales_products_df = sales_products_df[sales_products_df['ean'].str.isnumeric()]\n",
    "\n",
    "unique_sales_products = sales_products_df['ean'].unique()\n",
    "\n",
    "num_products = len(unique_sales_products)\n"
   ]
  },
  {
   "cell_type": "code",
   "execution_count": 9,
   "metadata": {},
   "outputs": [],
   "source": [
    "sales_products_df_subset = sales_products_df[sales_products_df['ean'].isin(high_risk_eans)]"
   ]
  },
  {
   "cell_type": "code",
   "execution_count": 4,
   "metadata": {},
   "outputs": [
    {
     "name": "stdout",
     "output_type": "stream",
     "text": [
      "192547\n"
     ]
    }
   ],
   "source": [
    "# Unique transactions\n",
    "unique_transactions = sales_products_df['transaction_id'].unique()\n",
    "\n",
    "num_transactions = len(unique_transactions)"
   ]
  },
  {
   "cell_type": "code",
   "execution_count": 5,
   "metadata": {},
   "outputs": [],
   "source": [
    "s_products_df = sales_products_df[[\"transaction_id\", \"ean\", \"product\"]]"
   ]
  },
  {
   "cell_type": "code",
   "execution_count": 6,
   "metadata": {},
   "outputs": [],
   "source": [
    "s_products_df.to_pickle(\"s_products_df.pkl\")"
   ]
  },
  {
   "cell_type": "code",
   "execution_count": 7,
   "metadata": {},
   "outputs": [],
   "source": [
    "# for each transaction, return the list of product names.\n",
    "data = list(s_products_df.groupby(\"transaction_id\").apply(lambda x: list(x.apply(lambda x: x[\"product\"], axis = 1))))\n",
    "# data"
   ]
  },
  {
   "cell_type": "code",
   "execution_count": 11,
   "metadata": {},
   "outputs": [],
   "source": [
    "import pickle\n",
    "pickle.dump(data, open(\"transaction_product_array.pkl\", \"wb\"))"
   ]
  },
  {
   "cell_type": "code",
   "execution_count": 12,
   "metadata": {},
   "outputs": [],
   "source": [
    "# convert data into a format understandble for apriori\n",
    "te = TransactionEncoder()\n",
    "te_ary = te.fit(data).transform(data)"
   ]
  },
  {
   "cell_type": "code",
   "execution_count": 13,
   "metadata": {},
   "outputs": [],
   "source": [
    "te_ary = te_ary.astype(\"int\")"
   ]
  },
  {
   "cell_type": "code",
   "execution_count": 16,
   "metadata": {},
   "outputs": [],
   "source": [
    "dd = pd.DataFrame(te_ary, columns=te.columns_)"
   ]
  },
  {
   "cell_type": "code",
   "execution_count": null,
   "metadata": {},
   "outputs": [],
   "source": [
    "dd.to_pickle(\"input_to_aprori.pkl\")"
   ]
  },
  {
   "cell_type": "code",
   "execution_count": null,
   "metadata": {},
   "outputs": [],
   "source": [
    "from mlxtend.frequent_patterns import apriori\n",
    "from mlxtend.frequent_patterns import association_rules\n",
    "\n",
    "# find frequent itemsets\n",
    "frequent_itemsets = apriori(dd, min_support=0.001, use_colnames=True)\n",
    "frequent_itemsets['length'] = frequent_itemsets['itemsets'].apply(lambda x: len(x))"
   ]
  },
  {
   "cell_type": "code",
   "execution_count": 28,
   "metadata": {},
   "outputs": [
    {
     "data": {
      "text/html": [
       "<div>\n",
       "<style scoped>\n",
       "    .dataframe tbody tr th:only-of-type {\n",
       "        vertical-align: middle;\n",
       "    }\n",
       "\n",
       "    .dataframe tbody tr th {\n",
       "        vertical-align: top;\n",
       "    }\n",
       "\n",
       "    .dataframe thead th {\n",
       "        text-align: right;\n",
       "    }\n",
       "</style>\n",
       "<table border=\"1\" class=\"dataframe\">\n",
       "  <thead>\n",
       "    <tr style=\"text-align: right;\">\n",
       "      <th></th>\n",
       "      <th>antecedents</th>\n",
       "      <th>consequents</th>\n",
       "      <th>antecedent support</th>\n",
       "      <th>consequent support</th>\n",
       "      <th>support</th>\n",
       "      <th>confidence</th>\n",
       "      <th>lift</th>\n",
       "      <th>leverage</th>\n",
       "      <th>conviction</th>\n",
       "    </tr>\n",
       "  </thead>\n",
       "  <tbody>\n",
       "    <tr>\n",
       "      <td>0</td>\n",
       "      <td>(Banan Eko)</td>\n",
       "      <td>(Avocado)</td>\n",
       "      <td>0.123850</td>\n",
       "      <td>0.046965</td>\n",
       "      <td>0.010964</td>\n",
       "      <td>0.088523</td>\n",
       "      <td>1.884858</td>\n",
       "      <td>0.005147</td>\n",
       "      <td>1.045594</td>\n",
       "    </tr>\n",
       "    <tr>\n",
       "      <td>1</td>\n",
       "      <td>(Avocado)</td>\n",
       "      <td>(Banan Eko)</td>\n",
       "      <td>0.046965</td>\n",
       "      <td>0.123850</td>\n",
       "      <td>0.010964</td>\n",
       "      <td>0.233440</td>\n",
       "      <td>1.884858</td>\n",
       "      <td>0.005147</td>\n",
       "      <td>1.142963</td>\n",
       "    </tr>\n",
       "    <tr>\n",
       "      <td>2</td>\n",
       "      <td>(Gurka)</td>\n",
       "      <td>(Avocado)</td>\n",
       "      <td>0.084660</td>\n",
       "      <td>0.046965</td>\n",
       "      <td>0.012184</td>\n",
       "      <td>0.143918</td>\n",
       "      <td>3.064347</td>\n",
       "      <td>0.008208</td>\n",
       "      <td>1.113251</td>\n",
       "    </tr>\n",
       "    <tr>\n",
       "      <td>3</td>\n",
       "      <td>(Avocado)</td>\n",
       "      <td>(Gurka)</td>\n",
       "      <td>0.046965</td>\n",
       "      <td>0.084660</td>\n",
       "      <td>0.012184</td>\n",
       "      <td>0.259427</td>\n",
       "      <td>3.064347</td>\n",
       "      <td>0.008208</td>\n",
       "      <td>1.235989</td>\n",
       "    </tr>\n",
       "    <tr>\n",
       "      <td>4</td>\n",
       "      <td>(Avocado)</td>\n",
       "      <td>(Miljöpåse)</td>\n",
       "      <td>0.046965</td>\n",
       "      <td>0.366217</td>\n",
       "      <td>0.021184</td>\n",
       "      <td>0.451067</td>\n",
       "      <td>1.231693</td>\n",
       "      <td>0.003985</td>\n",
       "      <td>1.154573</td>\n",
       "    </tr>\n",
       "  </tbody>\n",
       "</table>\n",
       "</div>"
      ],
      "text/plain": [
       "   antecedents  consequents  antecedent support  consequent support   support  \\\n",
       "0  (Banan Eko)    (Avocado)            0.123850            0.046965  0.010964   \n",
       "1    (Avocado)  (Banan Eko)            0.046965            0.123850  0.010964   \n",
       "2      (Gurka)    (Avocado)            0.084660            0.046965  0.012184   \n",
       "3    (Avocado)      (Gurka)            0.046965            0.084660  0.012184   \n",
       "4    (Avocado)  (Miljöpåse)            0.046965            0.366217  0.021184   \n",
       "\n",
       "   confidence      lift  leverage  conviction  \n",
       "0    0.088523  1.884858  0.005147    1.045594  \n",
       "1    0.233440  1.884858  0.005147    1.142963  \n",
       "2    0.143918  3.064347  0.008208    1.113251  \n",
       "3    0.259427  3.064347  0.008208    1.235989  \n",
       "4    0.451067  1.231693  0.003985    1.154573  "
      ]
     },
     "execution_count": 28,
     "metadata": {},
     "output_type": "execute_result"
    }
   ],
   "source": [
    "# get association rules.\n",
    "rules = association_rules(frequent_itemsets, metric=\"lift\", min_threshold=0.7)\n",
    "rules.head()"
   ]
  }
 ],
 "metadata": {
  "kernelspec": {
   "display_name": "Python 3",
   "language": "python",
   "name": "python3"
  },
  "language_info": {
   "codemirror_mode": {
    "name": "ipython",
    "version": 3
   },
   "file_extension": ".py",
   "mimetype": "text/x-python",
   "name": "python",
   "nbconvert_exporter": "python",
   "pygments_lexer": "ipython3",
   "version": "3.7.4"
  }
 },
 "nbformat": 4,
 "nbformat_minor": 2
}